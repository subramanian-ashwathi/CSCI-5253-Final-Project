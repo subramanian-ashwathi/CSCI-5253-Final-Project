{
 "cells": [
  {
   "cell_type": "code",
   "execution_count": 1,
   "id": "b386379d-2a25-433e-8175-ad8ba9fbecb5",
   "metadata": {},
   "outputs": [],
   "source": [
    "# Used to display all the matplotlib graphs inside the notebook\n",
    "%matplotlib inline \n",
    "\n",
    "# Hiding the warnings\n",
    "import warnings\n",
    "warnings.filterwarnings('ignore')"
   ]
  },
  {
   "cell_type": "code",
   "execution_count": 2,
   "id": "e516c4d7",
   "metadata": {
    "scrolled": true
   },
   "outputs": [],
   "source": [
    "from pyspark.sql import SparkSession\n",
    "from pyspark.sql.functions import col, count, when, expr, lpad, min, max, substring, hour, concat_ws, to_timestamp, regexp_replace, trim, initcap, datediff, date_trunc, month, year\n",
    "from datetime import datetime\n",
    "from pyspark.sql import functions as F\n",
    "import requests\n",
    "import json\n",
    "import pandas as pd\n",
    "import numpy as np\n",
    "from datetime import datetime\n",
    "from statsmodels.tsa.seasonal import seasonal_decompose\n",
    "from statsmodels.tsa.statespace.sarimax import SARIMAX\n",
    "import matplotlib.pyplot as plt"
   ]
  },
  {
   "cell_type": "code",
   "execution_count": 3,
   "id": "ecbc2109",
   "metadata": {
    "scrolled": true
   },
   "outputs": [
    {
     "name": "stdout",
     "output_type": "stream",
     "text": [
      "The number of crimes till date is:  857658\n"
     ]
    }
   ],
   "source": [
    "# Initialize Spark session\n",
    "spark = SparkSession.builder.appName(\"CrimeDataAnalysis\").getOrCreate()\n",
    "\n",
    "# Download JSON data\n",
    "url = 'https://data.lacity.org/resource/2nrs-mtv8.json?$select=count(*)'\n",
    "response = requests.get(url)\n",
    "data = json.loads(response.text)\n",
    "\n",
    "# Convert data to a Spark DataFrame\n",
    "crime_count = int(data[0]['count'])\n",
    "n_crimes = crime_count\n",
    "\n",
    "print('The number of crimes till date is: ', n_crimes)"
   ]
  },
  {
   "cell_type": "code",
   "execution_count": 4,
   "id": "560fac23",
   "metadata": {
    "scrolled": true
   },
   "outputs": [],
   "source": [
    "# Initialize Spark session\n",
    "# spark = SparkSession.builder.appName(\"CrimeDataAnalysis\").config(\"spark.jars\", \"hdfs://maskxdc/test/flint-0.6.0.jar\").getOrCreate()\n",
    "\n",
    "# Define API URL\n",
    "API_URL = \"https://data.lacity.org/resource/2nrs-mtv8.json\"\n",
    "\n",
    "def get_count(start_date, end_date):\n",
    "    query = f\"{API_URL}?$select=count(*)&$where=date_rptd between '{start_date}' and '{end_date}'\"\n",
    "    res = requests.get(query)\n",
    "    if res.status_code != 200:\n",
    "        raise Exception(f\"Return code: {res.status_code}\\tReturn Text: {res.content}\")\n",
    "\n",
    "    records_count = int(res.json()[0]['count'])\n",
    "    return records_count\n",
    "\n",
    "def get_data(start_date, end_date, limit, batch_num):\n",
    "    err_corr = int(limit * 0.1)\n",
    "\n",
    "    offset = (batch_num * limit) - err_corr if batch_num != 0 else 0\n",
    "    limit = limit + 2 * err_corr\n",
    "    query = (\n",
    "        f\"{API_URL}?$order=date_rptd ASC&$where=date_rptd between '{start_date}' and '{end_date}'&$limit={limit}&$offset={offset}\"\n",
    "    )\n",
    "    res = requests.get(query)\n",
    "    if res.status_code != 200:\n",
    "        raise Exception(f\"Return code: {res.status_code}\\tReturn Text: {res.content}\")\n",
    "\n",
    "    data = res.json()\n",
    "    return spark.createDataFrame(data)\n",
    "\n",
    "def load_data(start_date, end_date, batch_size=50000, debug=True):\n",
    "    if debug:\n",
    "        # Assuming you have a CSV file in the same format as the original code\n",
    "        return spark.read.csv(\"la_crime_data_10000.csv\", header=True, inferSchema=True)\n",
    "\n",
    "    # Get total count of columns to load\n",
    "    records_count = get_count(start_date, end_date)\n",
    "    print(f\"Fetching {records_count} records...\")\n",
    "\n",
    "    num_batches = int(records_count / batch_size) + 1\n",
    "\n",
    "    # Fetch data in batches\n",
    "    all_data = []\n",
    "    for batch_num in range(num_batches):\n",
    "        batch_data = get_data(start_date, end_date, batch_size, batch_num)\n",
    "        all_data.append(batch_data)\n",
    "\n",
    "    return all_data[0].union(*all_data[1:]).dropDuplicates()\n"
   ]
  },
  {
   "cell_type": "code",
   "execution_count": 5,
   "id": "2087400a",
   "metadata": {},
   "outputs": [
    {
     "name": "stdout",
     "output_type": "stream",
     "text": [
      "Number of rows: 10000\n",
      "Number of columns: 29\n"
     ]
    }
   ],
   "source": [
    "start_date = '2020-01-01'\n",
    "end_date = datetime.today().strftime('%Y-%m-%d')\n",
    "\n",
    "# crime_data = load_data(start_date, end_date, debug=False)\n",
    "# crime_data.to_csv('la_crime_data.csv', index=False)\n",
    "crime_data = load_data(start_date, end_date)\n",
    "\n",
    "# Display the shape of the DataFrame\n",
    "num_rows = crime_data.count()\n",
    "num_columns = len(crime_data.columns)\n",
    "print(f\"Number of rows: {num_rows}\")\n",
    "print(f\"Number of columns: {num_columns}\")"
   ]
  },
  {
   "cell_type": "code",
   "execution_count": 6,
   "id": "c207e139",
   "metadata": {},
   "outputs": [],
   "source": [
    "# Create another DataFrame 'data' and store the content of 'crime_data'\n",
    "data = crime_data.alias(\"data\")"
   ]
  },
  {
   "cell_type": "code",
   "execution_count": 7,
   "id": "10270d12",
   "metadata": {},
   "outputs": [
    {
     "name": "stdout",
     "output_type": "stream",
     "text": [
      "Shape of the Crimes data DataFrame is: (10000, 29)\n"
     ]
    }
   ],
   "source": [
    "def get_shape(df):\n",
    "    num_rows = df.count()\n",
    "    num_columns = len(df.columns)\n",
    "    return num_rows, num_columns\n",
    "\n",
    "# Usage\n",
    "num_rows, num_columns = get_shape(data)\n",
    "print(\"Shape of the Crimes data DataFrame is:\", (num_rows, num_columns))"
   ]
  },
  {
   "cell_type": "code",
   "execution_count": 8,
   "id": "e8e485a5",
   "metadata": {
    "scrolled": true
   },
   "outputs": [
    {
     "name": "stdout",
     "output_type": "stream",
     "text": [
      "+---+---------+-------------------+-------------------+--------+----+-----------+-----------+--------+------+--------------------+-------------------+--------+--------+------------+---------+--------------------+------+-----------+--------+--------+--------------------+-------+---------+--------------+--------------------+--------------------+--------+--------+\n",
      "|_c0|    dr_no|          date_rptd|           date_occ|time_occ|area|  area_name|rpt_dist_no|part_1_2|crm_cd|         crm_cd_desc|            mocodes|vict_age|vict_sex|vict_descent|premis_cd|         premis_desc|status|status_desc|crm_cd_1|crm_cd_2|            location|    lat|      lon|weapon_used_cd|         weapon_desc|        cross_street|crm_cd_3|crm_cd_4|\n",
      "+---+---------+-------------------+-------------------+--------+----+-----------+-----------+--------+------+--------------------+-------------------+--------+--------+------------+---------+--------------------+------+-----------+--------+--------+--------------------+-------+---------+--------------+--------------------+--------------------+--------+--------+\n",
      "|  0|191501505|2020-01-01 00:00:00|2020-01-01 00:00:00|    1730|  15|N Hollywood|       1543|       2|   745|VANDALISM - MISDE...|          0329 1402|      76|       F|           W|    502.0|MULTI-UNIT DWELLI...|    IC|Invest Cont|   745.0|   998.0|5400    CORTEEN  ...|34.1685|-118.4019|          NULL|                NULL|                NULL|    NULL|    NULL|\n",
      "|  1|191921269|2020-01-01 00:00:00|2020-01-01 00:00:00|     415|  19|    Mission|       1998|       2|   740|VANDALISM - FELON...|               0329|      31|       X|           X|    409.0| BEAUTY SUPPLY STORE|    IC|Invest Cont|   740.0|    NULL|14400    TITUS   ...|34.2198|-118.4468|          NULL|                NULL|                NULL|    NULL|    NULL|\n",
      "|  2|200104020|2020-01-01 00:00:00|2020-01-01 00:00:00|     245|   1|    Central|        153|       1|   350|       THEFT, PERSON|0344 0416 0446 1822|      44|       M|           B|    102.0|            SIDEWALK|    IC|Invest Cont|   350.0|   624.0|6TH              ...|34.0463|-118.2515|         400.0|STRONG-ARM (HANDS...|SPRING           ...|    NULL|    NULL|\n",
      "|  3|200104024|2020-01-01 00:00:00|2020-01-01 00:00:00|     325|   1|    Central|        134|       2|   740|VANDALISM - FELON...|               0329|      41|       M|           A|    122.0|VEHICLE, PASSENGE...|    IC|Invest Cont|   740.0|    NULL|4TH              ...|34.0503|-118.2504|          NULL|                NULL|HILL             ...|    NULL|    NULL|\n",
      "|  4|200104027|2020-01-01 00:00:00|2020-01-01 00:00:00|      30|   1|    Central|        182|       2|   930|CRIMINAL THREATS ...|     0416 0421 1822|      57|       M|           O|    108.0|         PARKING LOT|    IC|Invest Cont|   930.0|    NULL|700 W  9TH       ...|34.0458|-118.2614|         400.0|STRONG-ARM (HANDS...|                NULL|    NULL|    NULL|\n",
      "+---+---------+-------------------+-------------------+--------+----+-----------+-----------+--------+------+--------------------+-------------------+--------+--------+------------+---------+--------------------+------+-----------+--------+--------+--------------------+-------+---------+--------------+--------------------+--------------------+--------+--------+\n",
      "only showing top 5 rows\n",
      "\n"
     ]
    }
   ],
   "source": [
    "# Show the first few rows of the DataFrame\n",
    "data.show(5)"
   ]
  },
  {
   "cell_type": "code",
   "execution_count": 9,
   "id": "d9dfcebc",
   "metadata": {},
   "outputs": [
    {
     "name": "stdout",
     "output_type": "stream",
     "text": [
      "The shape before removing duplicates from the dataset is: (10000, 29)\n",
      "The shape after removing duplicates from the dataset is: (10000, 29)\n"
     ]
    }
   ],
   "source": [
    "print(\"The shape before removing duplicates from the dataset is:\", (num_rows, num_columns))\n",
    "\n",
    "# Remove duplicates\n",
    "data = data.dropDuplicates()\n",
    "\n",
    "# Check the shape after removing duplicates\n",
    "num_rows_after = data.count()\n",
    "print(\"The shape after removing duplicates from the dataset is:\", (num_rows_after, num_columns))"
   ]
  },
  {
   "cell_type": "code",
   "execution_count": 10,
   "id": "f427d5a0",
   "metadata": {},
   "outputs": [
    {
     "name": "stdout",
     "output_type": "stream",
     "text": [
      "root\n",
      " |-- _c0: integer (nullable = true)\n",
      " |-- dr_no: integer (nullable = true)\n",
      " |-- date_rptd: timestamp (nullable = true)\n",
      " |-- date_occ: timestamp (nullable = true)\n",
      " |-- time_occ: integer (nullable = true)\n",
      " |-- area: integer (nullable = true)\n",
      " |-- area_name: string (nullable = true)\n",
      " |-- rpt_dist_no: integer (nullable = true)\n",
      " |-- part_1_2: integer (nullable = true)\n",
      " |-- crm_cd: integer (nullable = true)\n",
      " |-- crm_cd_desc: string (nullable = true)\n",
      " |-- mocodes: string (nullable = true)\n",
      " |-- vict_age: integer (nullable = true)\n",
      " |-- vict_sex: string (nullable = true)\n",
      " |-- vict_descent: string (nullable = true)\n",
      " |-- premis_cd: double (nullable = true)\n",
      " |-- premis_desc: string (nullable = true)\n",
      " |-- status: string (nullable = true)\n",
      " |-- status_desc: string (nullable = true)\n",
      " |-- crm_cd_1: double (nullable = true)\n",
      " |-- crm_cd_2: double (nullable = true)\n",
      " |-- location: string (nullable = true)\n",
      " |-- lat: double (nullable = true)\n",
      " |-- lon: double (nullable = true)\n",
      " |-- weapon_used_cd: double (nullable = true)\n",
      " |-- weapon_desc: string (nullable = true)\n",
      " |-- cross_street: string (nullable = true)\n",
      " |-- crm_cd_3: double (nullable = true)\n",
      " |-- crm_cd_4: double (nullable = true)\n",
      "\n"
     ]
    }
   ],
   "source": [
    "# Print the schema of the DataFrame\n",
    "data.printSchema()"
   ]
  },
  {
   "cell_type": "code",
   "execution_count": 11,
   "id": "54acf4ae",
   "metadata": {},
   "outputs": [
    {
     "name": "stdout",
     "output_type": "stream",
     "text": [
      "+---+-----+---------+--------+--------+----+---------+-----------+--------+------+-----------+------------------+--------+------------------+------------------+---------+-----------+------+-----------+--------+--------+--------+---+---+-----------------+-----------------+------------+--------+--------+\n",
      "|_c0|dr_no|date_rptd|date_occ|time_occ|area|area_name|rpt_dist_no|part_1_2|crm_cd|crm_cd_desc|           mocodes|vict_age|          vict_sex|      vict_descent|premis_cd|premis_desc|status|status_desc|crm_cd_1|crm_cd_2|location|lat|lon|   weapon_used_cd|      weapon_desc|cross_street|crm_cd_3|crm_cd_4|\n",
      "+---+-----+---------+--------+--------+----+---------+-----------+--------+------+-----------+------------------+--------+------------------+------------------+---------+-----------+------+-----------+--------+--------+--------+---+---+-----------------+-----------------+------------+--------+--------+\n",
      "|0.0|  0.0|      0.0|     0.0|     0.0| 0.0|      0.0|        0.0|     0.0|   0.0|        0.0|10.780000000000001|     0.0|10.190000000000001|10.190000000000001|      0.0|       0.04|   0.0|        0.0|     0.0|   92.28|     0.0|0.0|0.0|61.36000000000001|61.36000000000001|       81.85|   99.79|   99.99|\n",
      "+---+-----+---------+--------+--------+----+---------+-----------+--------+------+-----------+------------------+--------+------------------+------------------+---------+-----------+------+-----------+--------+--------+--------+---+---+-----------------+-----------------+------------+--------+--------+\n",
      "\n"
     ]
    }
   ],
   "source": [
    "# Calculate the percentage of null values in each column\n",
    "num_rows = data.count()\n",
    "null_percentages = [(count(when(col(c).isNull(), c)) / num_rows * 100).alias(c) for c in data.columns]\n",
    "\n",
    "# Create a DataFrame with the null percentages\n",
    "null_percentage_df = data.agg(*null_percentages)\n",
    "\n",
    "# Show the null percentages\n",
    "null_percentage_df.show()"
   ]
  },
  {
   "cell_type": "code",
   "execution_count": 12,
   "id": "5cb337fe",
   "metadata": {
    "scrolled": true
   },
   "outputs": [
    {
     "name": "stdout",
     "output_type": "stream",
     "text": [
      "+---+---------+-------------------+-------------------+--------+----+-----------+-----------+--------+------+--------------------+--------------------+--------+--------+------------+---------+--------------------+------+------------+--------+--------+--------------------+-------+---------+--------------+--------------------+--------------------+--------+--------+\n",
      "|_c0|    dr_no|          date_rptd|           date_occ|time_occ|area|  area_name|rpt_dist_no|part_1_2|crm_cd|         crm_cd_desc|             mocodes|vict_age|vict_sex|vict_descent|premis_cd|         premis_desc|status| status_desc|crm_cd_1|crm_cd_2|            location|    lat|      lon|weapon_used_cd|         weapon_desc|        cross_street|crm_cd_3|crm_cd_4|\n",
      "+---+---------+-------------------+-------------------+--------+----+-----------+-----------+--------+------+--------------------+--------------------+--------+--------+------------+---------+--------------------+------+------------+--------+--------+--------------------+-------+---------+--------------+--------------------+--------------------+--------+--------+\n",
      "|605|201904032|2020-01-02 00:00:00|2020-01-01 00:00:00|    2135|  19|    Mission|       1924|       1|   761|     BRANDISH WEAPON|1822 3006 3028 30...|      41|       M|           H|    101.0|              STREET|    AA|Adult Arrest|   761.0|   930.0|ASTORIA          ...|34.2949|-118.4571|         200.0|KNIFE WITH BLADE ...|SAN FERNANDO     ...|   997.0|   998.0|\n",
      "|279|201504076|2020-01-01 00:00:00|2020-01-01 00:00:00|     500|  15|N Hollywood|       1513|       2|   740|VANDALISM - FELON...|           0329 1609|      61|       F|           W|    203.0|      OTHER BUSINESS|    IC| Invest Cont|   740.0|    NULL|12500    VANOWEN ...| 34.194|-118.4052|          NULL|                NULL|                NULL|    NULL|    NULL|\n",
      "|482|200604051|2020-01-02 00:00:00|2020-01-01 00:00:00|    2300|   6|  Hollywood|        668|       1|   210|             ROBBERY|0342 1822 0334 04...|      19|       M|           H|    101.0|              STREET|    IC| Invest Cont|   210.0|    NULL|            FOUNTAIN|34.0948|-118.3136|         200.0|KNIFE WITH BLADE ...|              WILTON|    NULL|    NULL|\n",
      "|500|201004075|2020-01-02 00:00:00|2020-01-02 00:00:00|    1325|  10|West Valley|       1011|       2|   627|CHILD ABUSE (PHYS...|1257 0416 0552 04...|       5|       F|           H|    501.0|SINGLE FAMILY DWE...|    AA|Adult Arrest|   627.0|    NULL|7400    TAMPA    ...|34.2048|-118.5535|         400.0|STRONG-ARM (HANDS...|                NULL|    NULL|    NULL|\n",
      "|521|201104077|2020-01-02 00:00:00|2020-01-02 00:00:00|    2100|  11|  Northeast|       1148|       1|   510|    VEHICLE - STOLEN|           1300 1317|      25|       M|           H|    301.0|         GAS STATION|    IC| Invest Cont|   510.0|    NULL|4400 N  FIGUEROA ...|34.0953|-118.2078|          NULL|                NULL|                NULL|    NULL|    NULL|\n",
      "+---+---------+-------------------+-------------------+--------+----+-----------+-----------+--------+------+--------------------+--------------------+--------+--------+------------+---------+--------------------+------+------------+--------+--------+--------------------+-------+---------+--------------+--------------------+--------------------+--------+--------+\n",
      "only showing top 5 rows\n",
      "\n"
     ]
    }
   ],
   "source": [
    "# Convert 'date_rptd' and 'date_occ' columns to datetime\n",
    "data = data.withColumn(\"date_rptd\", col(\"date_rptd\").cast(\"timestamp\"))\n",
    "data = data.withColumn(\"date_occ\", col(\"date_occ\").cast(\"timestamp\"))\n",
    "\n",
    "# Show the DataFrame after conversion\n",
    "data.show(5)"
   ]
  },
  {
   "cell_type": "code",
   "execution_count": 13,
   "id": "c15e3e0a",
   "metadata": {},
   "outputs": [],
   "source": [
    "# Convert 'time_occ' column to string\n",
    "data = data.withColumn(\"time_occ\", col(\"time_occ\").cast(\"string\"))\n",
    "\n",
    "# Add leading zeros to make it four digits\n",
    "data = data.withColumn(\"time_occ\", lpad(col(\"time_occ\"), 4, '0'))\n",
    "\n",
    "# Format 'time_occ' as HH:mm\n",
    "data = data.withColumn(\"time_occ\", concat_ws(\":\", substring(col(\"time_occ\"), 1, 2), substring(col(\"time_occ\"), 3, 2)))\n",
    "\n",
    "# Cast 'time_occ' to timestamp\n",
    "data = data.withColumn(\"time_occ\", to_timestamp(col(\"time_occ\"), \"HH:mm\"))"
   ]
  },
  {
   "cell_type": "code",
   "execution_count": 14,
   "id": "0e76a1d9",
   "metadata": {},
   "outputs": [],
   "source": [
    "# Define age groups and labels\n",
    "age_groups = [\n",
    "    (col(\"vict_age\") < 1),\n",
    "    (col(\"vict_age\").between(1, 12)),\n",
    "    (col(\"vict_age\").between(13, 17)),\n",
    "    (col(\"vict_age\").between(18, 64)),\n",
    "    (col(\"vict_age\") >= 65)\n",
    "]\n",
    "\n",
    "labels = ['Unknown', 'Child', 'Teenager', 'Adult', 'Old']\n",
    "\n",
    "# Create new column 'Age Group'\n",
    "data = data.withColumn(\"Age Group\", when(age_groups[0], labels[0])\n",
    "                                   .when(age_groups[1], labels[1])\n",
    "                                   .when(age_groups[2], labels[2])\n",
    "                                   .when(age_groups[3], labels[3])\n",
    "                                   .when(age_groups[4], labels[4])\n",
    "                                   .otherwise(\"Unknown\"))"
   ]
  },
  {
   "cell_type": "code",
   "execution_count": 15,
   "id": "cedd1329",
   "metadata": {},
   "outputs": [],
   "source": [
    "# Replace values in 'vict_sex' column\n",
    "data = data.withColumn(\"vict_sex\", when((col(\"vict_sex\") == 'M'), 'Male')\n",
    "                                   .when((col(\"vict_sex\") == 'F'), 'Female')\n",
    "                                   .when((col(\"vict_sex\") == 'X') | (col(\"vict_sex\") == 'H') | (col(\"vict_sex\").isNull()), 'Unknown')\n",
    "                                   .otherwise(col(\"vict_sex\")))\n",
    "\n",
    "# Fill null values with 'Data Missing'\n",
    "data = data.na.fill('Data Missing', subset=[\"vict_sex\"])"
   ]
  },
  {
   "cell_type": "code",
   "execution_count": 16,
   "id": "5dd700bb",
   "metadata": {},
   "outputs": [
    {
     "name": "stdout",
     "output_type": "stream",
     "text": [
      "+------------+-----+\n",
      "|vict_descent|count|\n",
      "+------------+-----+\n",
      "|K           |35   |\n",
      "|F           |8    |\n",
      "|NULL        |1019 |\n",
      "|B           |1441 |\n",
      "|V           |2    |\n",
      "|U           |2    |\n",
      "|O           |834  |\n",
      "|C           |15   |\n",
      "|J           |9    |\n",
      "|A           |266  |\n",
      "|X           |869  |\n",
      "|W           |2101 |\n",
      "|S           |1    |\n",
      "|I           |5    |\n",
      "|H           |3393 |\n",
      "+------------+-----+\n",
      "\n"
     ]
    }
   ],
   "source": [
    "# Get unique values and their counts in 'vict_descent' column\n",
    "unique_values_counts = data.groupBy(\"vict_descent\").count()\n",
    "\n",
    "# Show the result\n",
    "unique_values_counts.show(truncate=False)"
   ]
  },
  {
   "cell_type": "code",
   "execution_count": 17,
   "id": "d40e9b27",
   "metadata": {},
   "outputs": [],
   "source": [
    "# Define descent mapping\n",
    "descent_mapping = {\n",
    "    'A': 'Other Asian',\n",
    "    'B': 'Black',\n",
    "    'C': 'Chinese',\n",
    "    'D': 'Cambodian',\n",
    "    'F': 'Filipino',\n",
    "    'G': 'Guamanian',\n",
    "    'H': 'Hispanic/Latin/Mexican',\n",
    "    'I': 'American Indian/Alaskan Native',\n",
    "    'J': 'Japanese',\n",
    "    'K': 'Korean',\n",
    "    'L': 'Laotian',\n",
    "    'O': 'Other',\n",
    "    'P': 'Pacific Islander',\n",
    "    'S': 'Samoan',\n",
    "    'U': 'Hawaiian',\n",
    "    'V': 'Vietnamese',\n",
    "    'W': 'White',\n",
    "    'X': 'Unknown',\n",
    "    '-': 'Unknown',\n",
    "    'Z': 'Asian Indian'\n",
    "}\n",
    "\n",
    "# Replace values in 'vict_descent' column\n",
    "for key, value in descent_mapping.items():\n",
    "    data = data.withColumn(\"vict_descent\", when((col(\"vict_descent\") == key), value).otherwise(col(\"vict_descent\")))\n",
    "\n",
    "# Fill null values with 'Data Missing'\n",
    "data = data.na.fill(\"Data Missing\", subset=[\"vict_descent\"])"
   ]
  },
  {
   "cell_type": "code",
   "execution_count": 18,
   "id": "cae4c69b",
   "metadata": {},
   "outputs": [
    {
     "name": "stdout",
     "output_type": "stream",
     "text": [
      "+------------------------------+-----+\n",
      "|vict_descent                  |count|\n",
      "+------------------------------+-----+\n",
      "|American Indian/Alaskan Native|5    |\n",
      "|Chinese                       |15   |\n",
      "|Data Missing                  |1019 |\n",
      "|Hawaiian                      |2    |\n",
      "|Japanese                      |9    |\n",
      "|Hispanic/Latin/Mexican        |3393 |\n",
      "|Unknown                       |869  |\n",
      "|Filipino                      |8    |\n",
      "|Vietnamese                    |2    |\n",
      "|Other                         |834  |\n",
      "|Samoan                        |1    |\n",
      "|Korean                        |35   |\n",
      "|White                         |2101 |\n",
      "|Black                         |1441 |\n",
      "|Other Asian                   |266  |\n",
      "+------------------------------+-----+\n",
      "\n"
     ]
    }
   ],
   "source": [
    "# Get unique values and their counts in 'vict_descent' column\n",
    "unique_values_counts = data.groupBy(\"vict_descent\").count()\n",
    "\n",
    "# Show the result\n",
    "unique_values_counts.show(truncate=False)"
   ]
  },
  {
   "cell_type": "code",
   "execution_count": 19,
   "id": "01c643d0",
   "metadata": {},
   "outputs": [],
   "source": [
    "# Fill null values in 'premis_desc' column with 'Data Missing'\n",
    "data = data.na.fill(\"Data Missing\", subset=[\"premis_desc\"])"
   ]
  },
  {
   "cell_type": "code",
   "execution_count": 20,
   "id": "39c974e8",
   "metadata": {},
   "outputs": [
    {
     "name": "stdout",
     "output_type": "stream",
     "text": [
      "+------------+-----+\n",
      "|status_desc |count|\n",
      "+------------+-----+\n",
      "|Juv Arrest  |52   |\n",
      "|Juv Other   |28   |\n",
      "|Invest Cont |7556 |\n",
      "|Adult Other |1284 |\n",
      "|Adult Arrest|1080 |\n",
      "+------------+-----+\n",
      "\n"
     ]
    }
   ],
   "source": [
    "# Get unique values and their counts in 'status_desc' column\n",
    "unique_values_counts = data.groupBy(\"status_desc\").count()\n",
    "\n",
    "# Show the result\n",
    "unique_values_counts.show(truncate=False)"
   ]
  },
  {
   "cell_type": "code",
   "execution_count": 21,
   "id": "3d5b6a8b",
   "metadata": {},
   "outputs": [],
   "source": [
    "# Fill null values in 'weapon_desc' column with 'Data Missing'\n",
    "data = data.na.fill(\"Data Missing\", subset=[\"weapon_desc\"])"
   ]
  },
  {
   "cell_type": "code",
   "execution_count": 22,
   "id": "32a58a07",
   "metadata": {},
   "outputs": [],
   "source": [
    "# Fill missing values in 'cross_street' and 'mocodes' columns with 'Data Missing'\n",
    "data = data.na.fill(\"Data Missing\", subset=[\"cross_street\", \"mocodes\"])"
   ]
  },
  {
   "cell_type": "code",
   "execution_count": 23,
   "id": "f3421711",
   "metadata": {
    "scrolled": true
   },
   "outputs": [
    {
     "data": {
      "text/plain": [
       "['_c0',\n",
       " 'dr_no',\n",
       " 'Date Reported',\n",
       " 'Date Occurred',\n",
       " 'Time Occurred',\n",
       " 'Area Code',\n",
       " 'area_name',\n",
       " 'rpt_dist_no',\n",
       " 'Part 1-2',\n",
       " 'Crime Code',\n",
       " 'Crime Description',\n",
       " 'Modus Operandi',\n",
       " 'Victim Age',\n",
       " 'Victim Gender',\n",
       " 'Victim Descent',\n",
       " 'premis_cd',\n",
       " 'Crime Location',\n",
       " 'status',\n",
       " 'Case Status',\n",
       " 'crm_cd_1',\n",
       " 'crm_cd_2',\n",
       " 'Street Address',\n",
       " 'Latitude',\n",
       " 'Longitude',\n",
       " 'weapon_used_cd',\n",
       " 'Weapon Description',\n",
       " 'cross_street',\n",
       " 'crm_cd_3',\n",
       " 'crm_cd_4',\n",
       " 'Age Group']"
      ]
     },
     "execution_count": 23,
     "metadata": {},
     "output_type": "execute_result"
    }
   ],
   "source": [
    "# Rename columns based on the provided mapping\n",
    "data = data \\\n",
    "    .withColumnRenamed(\"lat\", \"Latitude\") \\\n",
    "    .withColumnRenamed(\"lon\", \"Longitude\") \\\n",
    "    .withColumnRenamed(\"status_desc\", \"Case Status\") \\\n",
    "    .withColumnRenamed(\"premis_desc\", \"Crime Location\") \\\n",
    "    .withColumnRenamed(\"vict_descent\", \"Victim Descent\") \\\n",
    "    .withColumnRenamed(\"vict_sex\", \"Victim Gender\") \\\n",
    "    .withColumnRenamed(\"weapon_desc\", \"Weapon Description\") \\\n",
    "    .withColumnRenamed(\"vict_age\", \"Victim Age\") \\\n",
    "    .withColumnRenamed(\"mocodes\", \"Modus Operandi\") \\\n",
    "    .withColumnRenamed(\"date_rptd\", \"Date Reported\") \\\n",
    "    .withColumnRenamed(\"date_occ\", \"Date Occurred\") \\\n",
    "    .withColumnRenamed(\"time_occ\", \"Time Occurred\") \\\n",
    "    .withColumnRenamed(\"part_1_2\", \"Part 1-2\") \\\n",
    "    .withColumnRenamed(\"location\", \"Street Address\") \\\n",
    "    .withColumnRenamed(\"crm_cd\", \"Crime Code\") \\\n",
    "    .withColumnRenamed(\"crm_cd_desc\", \"Crime Description\") \\\n",
    "    .withColumnRenamed(\"area\", \"Area Code\")\n",
    "\n",
    "data.columns"
   ]
  },
  {
   "cell_type": "code",
   "execution_count": 24,
   "id": "aa7088a5",
   "metadata": {},
   "outputs": [],
   "source": [
    "# List of columns to drop\n",
    "columns_to_drop = ['premis_cd', 'crm_cd_1', 'crm_cd_2', 'crm_cd_3', 'crm_cd_4', 'status', 'weapon_used_cd']\n",
    "\n",
    "# Select columns that are not in the list of columns to drop\n",
    "data = data.select([column for column in data.columns if column not in columns_to_drop])"
   ]
  },
  {
   "cell_type": "code",
   "execution_count": 25,
   "id": "2fcf0c2b",
   "metadata": {},
   "outputs": [],
   "source": [
    "# Replace zeros with None in 'Latitude' and 'Longitude' columns because\n",
    "# 0s represent location unknow, which are masked for privacy with 0s\n",
    "# this step is done to avoid any confusion in map plots in Tableau\n",
    "\n",
    "data = data.withColumn(\"Latitude\", when(col(\"Latitude\") == 0, None).otherwise(col(\"Latitude\")))\n",
    "data = data.withColumn(\"Longitude\", when(col(\"Longitude\") == 0, None).otherwise(col(\"Longitude\")))"
   ]
  },
  {
   "cell_type": "code",
   "execution_count": 26,
   "id": "91ac8d81",
   "metadata": {
    "scrolled": true
   },
   "outputs": [
    {
     "data": {
      "text/plain": [
       "[' C0',\n",
       " 'Dr No',\n",
       " 'Date Reported',\n",
       " 'Date Occurred',\n",
       " 'Time Occurred',\n",
       " 'Area Code',\n",
       " 'Area Name',\n",
       " 'Rpt Dist No',\n",
       " 'Part 1-2',\n",
       " 'Crime Code',\n",
       " 'Crime Description',\n",
       " 'Modus Operandi',\n",
       " 'Victim Age',\n",
       " 'Victim Gender',\n",
       " 'Victim Descent',\n",
       " 'Crime Location',\n",
       " 'Case Status',\n",
       " 'Street Address',\n",
       " 'Latitude',\n",
       " 'Longitude',\n",
       " 'Weapon Description',\n",
       " 'Cross Street',\n",
       " 'Age Group']"
      ]
     },
     "execution_count": 26,
     "metadata": {},
     "output_type": "execute_result"
    }
   ],
   "source": [
    "# Replace underscores with spaces and title-case column names\n",
    "for column in data.columns:\n",
    "    new_column = column.replace(\"_\", \" \").title()\n",
    "    data = data.withColumnRenamed(column, new_column)\n",
    "    \n",
    "data.columns"
   ]
  },
  {
   "cell_type": "code",
   "execution_count": 27,
   "id": "657a0907",
   "metadata": {},
   "outputs": [],
   "source": [
    "# Function to remove text inside brackets\n",
    "def remove_text_inside_brackets(sentence):\n",
    "    return trim(regexp_replace(sentence, '\\(.*?\\)', ''))\n",
    "\n",
    "# Apply the function to each row in the 'Crime Description' column\n",
    "data = data.withColumn('Crime Description', remove_text_inside_brackets(col('Crime Description')))\n",
    "data = data.withColumn('Crime Description', regexp_replace(col('Crime Description'), ',', '-'))\n",
    "data = data.withColumn('Crime Description', initcap(trim(col('Crime Description'))))"
   ]
  },
  {
   "cell_type": "code",
   "execution_count": 28,
   "id": "110042fe",
   "metadata": {},
   "outputs": [],
   "source": [
    "# Apply the function to each row in the 'Weapon Description' column\n",
    "data = data.withColumn('Weapon Description', remove_text_inside_brackets(col('Weapon Description')))\n",
    "data = data.withColumn('Weapon Description', regexp_replace(col('Weapon Description'), ',', '-'))\n",
    "data = data.withColumn('Weapon Description', initcap(trim(col('Weapon Description'))))"
   ]
  },
  {
   "cell_type": "code",
   "execution_count": 29,
   "id": "36980f8a",
   "metadata": {},
   "outputs": [],
   "source": [
    "# Apply transformations to the 'Crime Location' column\n",
    "data = data.withColumn('Crime Location', trim(col('Crime Location')))\n",
    "data = data.withColumn('Crime Location', initcap(col('Crime Location')))"
   ]
  },
  {
   "cell_type": "code",
   "execution_count": 30,
   "id": "7247644f",
   "metadata": {},
   "outputs": [],
   "source": [
    "# Replace asterisks in the 'Crime Location' column\n",
    "data = data.withColumn('Crime Location', regexp_replace(col('Crime Location'), '\\\\*', ''))"
   ]
  },
  {
   "cell_type": "code",
   "execution_count": 31,
   "id": "ec333076",
   "metadata": {},
   "outputs": [],
   "source": [
    "# Apply transformations to the 'Street Address' column\n",
    "data = data.withColumn('Street Address', trim(col('Street Address')))\n",
    "data = data.withColumn('Street Address', initcap(col('Street Address')))"
   ]
  },
  {
   "cell_type": "code",
   "execution_count": 32,
   "id": "5a3a0c24",
   "metadata": {},
   "outputs": [],
   "source": [
    "# Function to remove extra spaces\n",
    "def remove_extra_spaces(address_string):\n",
    "    return regexp_replace(address_string, ' +', ' ')\n",
    "\n",
    "# Apply the function to the 'Street Address' column\n",
    "data = data.withColumn('Street Address', remove_extra_spaces(col('Street Address')))"
   ]
  },
  {
   "cell_type": "code",
   "execution_count": 33,
   "id": "afd06256",
   "metadata": {},
   "outputs": [
    {
     "name": "stdout",
     "output_type": "stream",
     "text": [
      "+---+-----+-------------+-------------+-------------+---------+---------+-----------+--------+----------+-----------------+--------------+----------+-------------+--------------+--------------+-----------+--------------+--------+---------+------------------+------------+---------+\n",
      "| C0|Dr No|Date Reported|Date Occurred|Time Occurred|Area Code|Area Name|Rpt Dist No|Part 1-2|Crime Code|Crime Description|Modus Operandi|Victim Age|Victim Gender|Victim Descent|Crime Location|Case Status|Street Address|Latitude|Longitude|Weapon Description|Cross Street|Age Group|\n",
      "+---+-----+-------------+-------------+-------------+---------+---------+-----------+--------+----------+-----------------+--------------+----------+-------------+--------------+--------------+-----------+--------------+--------+---------+------------------+------------+---------+\n",
      "|0.0|  0.0|          0.0|          0.0|          0.0|      0.0|      0.0|        0.0|     0.0|       0.0|              0.0|           0.0|       0.0|          0.0|           0.0|           0.0|        0.0|           0.0|     0.0|      0.0|               0.0|         0.0|      0.0|\n",
      "+---+-----+-------------+-------------+-------------+---------+---------+-----------+--------+----------+-----------------+--------------+----------+-------------+--------------+--------------+-----------+--------------+--------+---------+------------------+------------+---------+\n",
      "\n"
     ]
    }
   ],
   "source": [
    "# Calculate the percentage of null values in each columnafter data cleaning\n",
    "num_rows = data.count()\n",
    "null_percentages = [(count(when(col(c).isNull(), c)) / num_rows * 100).alias(c) for c in data.columns]\n",
    "\n",
    "# Create a DataFrame with the null percentages\n",
    "null_percentage_df = data.agg(*null_percentages)\n",
    "\n",
    "# Show the null percentages\n",
    "null_percentage_df.show()"
   ]
  },
  {
   "cell_type": "code",
   "execution_count": 34,
   "id": "7bea9713",
   "metadata": {},
   "outputs": [
    {
     "name": "stdout",
     "output_type": "stream",
     "text": [
      "There are 10000 crimes committed over 20 days. On average, there are 500 crimes each day.\n"
     ]
    }
   ],
   "source": [
    "# Calculate the duration\n",
    "\n",
    "min_date = data.select(min('Date Occurred')).first()[0]\n",
    "max_date = data.select(max('Date Occurred')).first()[0]\n",
    "duration = (max_date - min_date).days\n",
    "\n",
    "print(\"There are {} crimes committed over {} days. On average, there are {} crimes each day.\".format(data.count(), duration, int(data.count() / duration)))"
   ]
  },
  {
   "cell_type": "code",
   "execution_count": 35,
   "id": "5bd99343",
   "metadata": {},
   "outputs": [],
   "source": [
    "# Calculate the delay\n",
    "data = data.withColumn('Delay', datediff(col('Date Reported'), col('Date Occurred')))"
   ]
  },
  {
   "cell_type": "code",
   "execution_count": 36,
   "id": "02c17626",
   "metadata": {},
   "outputs": [],
   "source": [
    "# Define bins and labels\n",
    "bins = [-1, 0, 1, 2, 7, 30, 365, float('inf')]\n",
    "labels = [\"Same day\", \"1 day\", \"2 days\", '3-7 days', '8-30 days', '1 month-1 year', 'More than 1 year']\n",
    "\n",
    "# Create 'Delay Category' column\n",
    "data = data.withColumn('Delay Category',\n",
    "    when((col('Delay') >= bins[0]) & (col('Delay') < bins[1]), labels[0])\n",
    "    .when((col('Delay') >= bins[1]) & (col('Delay') < bins[2]), labels[1])\n",
    "    .when((col('Delay') >= bins[2]) & (col('Delay') < bins[3]), labels[2])\n",
    "    .when((col('Delay') >= bins[3]) & (col('Delay') < bins[4]), labels[3])\n",
    "    .when((col('Delay') >= bins[4]) & (col('Delay') < bins[5]), labels[4])\n",
    "    .when((col('Delay') >= bins[5]) & (col('Delay') < bins[6]), labels[5])\n",
    "    .otherwise(labels[6]))"
   ]
  },
  {
   "cell_type": "code",
   "execution_count": 37,
   "id": "b50c6dc5",
   "metadata": {},
   "outputs": [],
   "source": [
    "# Create 'Week Period' column\n",
    "data = data.withColumn('Week Period', date_trunc('week', col('Date Occurred')))\n",
    "\n",
    "# Create 'Month Period' column\n",
    "data = data.withColumn('Month Period', date_trunc('month', col('Date Occurred')))"
   ]
  },
  {
   "cell_type": "code",
   "execution_count": 38,
   "id": "069d0b51",
   "metadata": {},
   "outputs": [],
   "source": [
    "# Create 'Time Slot' column\n",
    "data = data.withColumn(\n",
    "    'Time Slot',\n",
    "    when((col('Time Occurred').cast('long') >= float('-inf')) & (col('Time Occurred').cast('long') < 1.59 * 3600), '0-2')\n",
    "    .when((col('Time Occurred').cast('long') >= 1.59 * 3600) & (col('Time Occurred').cast('long') < 3.59 * 3600), '2-4')\n",
    "    .when((col('Time Occurred').cast('long') >= 3.59 * 3600) & (col('Time Occurred').cast('long') < 5.59 * 3600), '4-6')\n",
    "    .when((col('Time Occurred').cast('long') >= 5.59 * 3600) & (col('Time Occurred').cast('long') < 7.59 * 3600), '6-8')\n",
    "    .when((col('Time Occurred').cast('long') >= 7.59 * 3600) & (col('Time Occurred').cast('long') < 9.59 * 3600), '8-10')\n",
    "    .when((col('Time Occurred').cast('long') >= 9.59 * 3600) & (col('Time Occurred').cast('long') < 11.59 * 3600), '10-12')\n",
    "    .when((col('Time Occurred').cast('long') >= 11.59 * 3600) & (col('Time Occurred').cast('long') < 13.59 * 3600), '12-14')\n",
    "    .when((col('Time Occurred').cast('long') >= 13.59 * 3600) & (col('Time Occurred').cast('long') < 15.59 * 3600), '14-16')\n",
    "    .when((col('Time Occurred').cast('long') >= 15.59 * 3600) & (col('Time Occurred').cast('long') < 17.59 * 3600), '16-18')\n",
    "    .when((col('Time Occurred').cast('long') >= 17.59 * 3600) & (col('Time Occurred').cast('long') < 19.59 * 3600), '18-20')\n",
    "    .when((col('Time Occurred').cast('long') >= 19.59 * 3600) & (col('Time Occurred').cast('long') < 21.59 * 3600), '20-22')\n",
    "    .when((col('Time Occurred').cast('long') >= 21.59 * 3600) & (col('Time Occurred').cast('long') < float('inf')), '22-24')\n",
    "    .otherwise(None)\n",
    ")"
   ]
  },
  {
   "cell_type": "code",
   "execution_count": null,
   "id": "012e7f46-81b1-46ac-9f70-b70f482cb900",
   "metadata": {},
   "outputs": [],
   "source": []
  },
  {
   "cell_type": "code",
   "execution_count": 49,
   "id": "432b7e40-1c1f-489a-adcf-4a14dd478fc5",
   "metadata": {
    "scrolled": true
   },
   "outputs": [],
   "source": [
    "# Save DataFrame to CSV\n",
    "# data.write.mode(\"overwrite\").csv(r\"processed-los-angeles-data/processed-los-angeles-data.csv\", header=True)\n",
    "data.toPandas().to_csv('mycsv.csv')"
   ]
  },
  {
   "cell_type": "code",
   "execution_count": null,
   "id": "5ee3321e",
   "metadata": {},
   "outputs": [],
   "source": []
  },
  {
   "cell_type": "code",
   "execution_count": null,
   "id": "69b1e905-9fcc-4642-ae86-161028c42f43",
   "metadata": {},
   "outputs": [],
   "source": []
  },
  {
   "cell_type": "markdown",
   "id": "940b61ea",
   "metadata": {},
   "source": [
    "## Time Series Modelling"
   ]
  },
  {
   "cell_type": "code",
   "execution_count": 40,
   "id": "bbf874b6",
   "metadata": {},
   "outputs": [],
   "source": [
    "# time_series_data = data.select('Date Occurred')\n",
    "\n",
    "# time_series_data = data.groupBy('Date Occurred').count().withColumnRenamed('count', 'Crime Count')\n",
    "\n",
    "# Show the resulting time series data\n",
    "# time_series_data.show(5)"
   ]
  },
  {
   "cell_type": "code",
   "execution_count": 41,
   "id": "30e14ccd",
   "metadata": {},
   "outputs": [],
   "source": [
    "# time_series_data = time_series_data.withColumn('Month', month('Date Occurred'))\n",
    "# time_series_data = time_series_data.withColumn('Year', year('Date Occurred'))\n",
    "\n",
    "# Show the resulting time series data\n",
    "# time_series_data.show(10)"
   ]
  },
  {
   "cell_type": "code",
   "execution_count": 42,
   "id": "eff975ff",
   "metadata": {},
   "outputs": [],
   "source": [
    "# Group by 'Year' and 'Month' and pivot the data\n",
    "# crosstab_data = time_series_data.groupBy('Year').pivot('Month').agg(F.sum('Crime Count'))\n",
    "\n",
    "# Show the resulting crosstab data\n",
    "# crosstab_data.show(truncate=False)"
   ]
  },
  {
   "cell_type": "code",
   "execution_count": 43,
   "id": "698af476-93ce-4ce4-a965-fdfac3f1c775",
   "metadata": {},
   "outputs": [
    {
     "ename": "FileNotFoundError",
     "evalue": "[Errno 2] No such file or directory: 'final_los_angeles_crime_data.csv'",
     "output_type": "error",
     "traceback": [
      "\u001b[0;31m---------------------------------------------------------------------------\u001b[0m",
      "\u001b[0;31mFileNotFoundError\u001b[0m                         Traceback (most recent call last)",
      "Cell \u001b[0;32mIn[43], line 1\u001b[0m\n\u001b[0;32m----> 1\u001b[0m data \u001b[38;5;241m=\u001b[39m \u001b[43mpd\u001b[49m\u001b[38;5;241;43m.\u001b[39;49m\u001b[43mread_csv\u001b[49m\u001b[43m(\u001b[49m\u001b[38;5;124;43m'\u001b[39;49m\u001b[38;5;124;43mfinal_los_angeles_crime_data.csv\u001b[39;49m\u001b[38;5;124;43m'\u001b[39;49m\u001b[43m)\u001b[49m\n\u001b[1;32m      2\u001b[0m data\u001b[38;5;241m.\u001b[39mhead()\n",
      "File \u001b[0;32m/opt/conda/lib/python3.11/site-packages/pandas/io/parsers/readers.py:912\u001b[0m, in \u001b[0;36mread_csv\u001b[0;34m(filepath_or_buffer, sep, delimiter, header, names, index_col, usecols, dtype, engine, converters, true_values, false_values, skipinitialspace, skiprows, skipfooter, nrows, na_values, keep_default_na, na_filter, verbose, skip_blank_lines, parse_dates, infer_datetime_format, keep_date_col, date_parser, date_format, dayfirst, cache_dates, iterator, chunksize, compression, thousands, decimal, lineterminator, quotechar, quoting, doublequote, escapechar, comment, encoding, encoding_errors, dialect, on_bad_lines, delim_whitespace, low_memory, memory_map, float_precision, storage_options, dtype_backend)\u001b[0m\n\u001b[1;32m    899\u001b[0m kwds_defaults \u001b[38;5;241m=\u001b[39m _refine_defaults_read(\n\u001b[1;32m    900\u001b[0m     dialect,\n\u001b[1;32m    901\u001b[0m     delimiter,\n\u001b[0;32m   (...)\u001b[0m\n\u001b[1;32m    908\u001b[0m     dtype_backend\u001b[38;5;241m=\u001b[39mdtype_backend,\n\u001b[1;32m    909\u001b[0m )\n\u001b[1;32m    910\u001b[0m kwds\u001b[38;5;241m.\u001b[39mupdate(kwds_defaults)\n\u001b[0;32m--> 912\u001b[0m \u001b[38;5;28;01mreturn\u001b[39;00m \u001b[43m_read\u001b[49m\u001b[43m(\u001b[49m\u001b[43mfilepath_or_buffer\u001b[49m\u001b[43m,\u001b[49m\u001b[43m \u001b[49m\u001b[43mkwds\u001b[49m\u001b[43m)\u001b[49m\n",
      "File \u001b[0;32m/opt/conda/lib/python3.11/site-packages/pandas/io/parsers/readers.py:577\u001b[0m, in \u001b[0;36m_read\u001b[0;34m(filepath_or_buffer, kwds)\u001b[0m\n\u001b[1;32m    574\u001b[0m _validate_names(kwds\u001b[38;5;241m.\u001b[39mget(\u001b[38;5;124m\"\u001b[39m\u001b[38;5;124mnames\u001b[39m\u001b[38;5;124m\"\u001b[39m, \u001b[38;5;28;01mNone\u001b[39;00m))\n\u001b[1;32m    576\u001b[0m \u001b[38;5;66;03m# Create the parser.\u001b[39;00m\n\u001b[0;32m--> 577\u001b[0m parser \u001b[38;5;241m=\u001b[39m \u001b[43mTextFileReader\u001b[49m\u001b[43m(\u001b[49m\u001b[43mfilepath_or_buffer\u001b[49m\u001b[43m,\u001b[49m\u001b[43m \u001b[49m\u001b[38;5;241;43m*\u001b[39;49m\u001b[38;5;241;43m*\u001b[39;49m\u001b[43mkwds\u001b[49m\u001b[43m)\u001b[49m\n\u001b[1;32m    579\u001b[0m \u001b[38;5;28;01mif\u001b[39;00m chunksize \u001b[38;5;129;01mor\u001b[39;00m iterator:\n\u001b[1;32m    580\u001b[0m     \u001b[38;5;28;01mreturn\u001b[39;00m parser\n",
      "File \u001b[0;32m/opt/conda/lib/python3.11/site-packages/pandas/io/parsers/readers.py:1407\u001b[0m, in \u001b[0;36mTextFileReader.__init__\u001b[0;34m(self, f, engine, **kwds)\u001b[0m\n\u001b[1;32m   1404\u001b[0m     \u001b[38;5;28mself\u001b[39m\u001b[38;5;241m.\u001b[39moptions[\u001b[38;5;124m\"\u001b[39m\u001b[38;5;124mhas_index_names\u001b[39m\u001b[38;5;124m\"\u001b[39m] \u001b[38;5;241m=\u001b[39m kwds[\u001b[38;5;124m\"\u001b[39m\u001b[38;5;124mhas_index_names\u001b[39m\u001b[38;5;124m\"\u001b[39m]\n\u001b[1;32m   1406\u001b[0m \u001b[38;5;28mself\u001b[39m\u001b[38;5;241m.\u001b[39mhandles: IOHandles \u001b[38;5;241m|\u001b[39m \u001b[38;5;28;01mNone\u001b[39;00m \u001b[38;5;241m=\u001b[39m \u001b[38;5;28;01mNone\u001b[39;00m\n\u001b[0;32m-> 1407\u001b[0m \u001b[38;5;28mself\u001b[39m\u001b[38;5;241m.\u001b[39m_engine \u001b[38;5;241m=\u001b[39m \u001b[38;5;28;43mself\u001b[39;49m\u001b[38;5;241;43m.\u001b[39;49m\u001b[43m_make_engine\u001b[49m\u001b[43m(\u001b[49m\u001b[43mf\u001b[49m\u001b[43m,\u001b[49m\u001b[43m \u001b[49m\u001b[38;5;28;43mself\u001b[39;49m\u001b[38;5;241;43m.\u001b[39;49m\u001b[43mengine\u001b[49m\u001b[43m)\u001b[49m\n",
      "File \u001b[0;32m/opt/conda/lib/python3.11/site-packages/pandas/io/parsers/readers.py:1661\u001b[0m, in \u001b[0;36mTextFileReader._make_engine\u001b[0;34m(self, f, engine)\u001b[0m\n\u001b[1;32m   1659\u001b[0m     \u001b[38;5;28;01mif\u001b[39;00m \u001b[38;5;124m\"\u001b[39m\u001b[38;5;124mb\u001b[39m\u001b[38;5;124m\"\u001b[39m \u001b[38;5;129;01mnot\u001b[39;00m \u001b[38;5;129;01min\u001b[39;00m mode:\n\u001b[1;32m   1660\u001b[0m         mode \u001b[38;5;241m+\u001b[39m\u001b[38;5;241m=\u001b[39m \u001b[38;5;124m\"\u001b[39m\u001b[38;5;124mb\u001b[39m\u001b[38;5;124m\"\u001b[39m\n\u001b[0;32m-> 1661\u001b[0m \u001b[38;5;28mself\u001b[39m\u001b[38;5;241m.\u001b[39mhandles \u001b[38;5;241m=\u001b[39m \u001b[43mget_handle\u001b[49m\u001b[43m(\u001b[49m\n\u001b[1;32m   1662\u001b[0m \u001b[43m    \u001b[49m\u001b[43mf\u001b[49m\u001b[43m,\u001b[49m\n\u001b[1;32m   1663\u001b[0m \u001b[43m    \u001b[49m\u001b[43mmode\u001b[49m\u001b[43m,\u001b[49m\n\u001b[1;32m   1664\u001b[0m \u001b[43m    \u001b[49m\u001b[43mencoding\u001b[49m\u001b[38;5;241;43m=\u001b[39;49m\u001b[38;5;28;43mself\u001b[39;49m\u001b[38;5;241;43m.\u001b[39;49m\u001b[43moptions\u001b[49m\u001b[38;5;241;43m.\u001b[39;49m\u001b[43mget\u001b[49m\u001b[43m(\u001b[49m\u001b[38;5;124;43m\"\u001b[39;49m\u001b[38;5;124;43mencoding\u001b[39;49m\u001b[38;5;124;43m\"\u001b[39;49m\u001b[43m,\u001b[49m\u001b[43m \u001b[49m\u001b[38;5;28;43;01mNone\u001b[39;49;00m\u001b[43m)\u001b[49m\u001b[43m,\u001b[49m\n\u001b[1;32m   1665\u001b[0m \u001b[43m    \u001b[49m\u001b[43mcompression\u001b[49m\u001b[38;5;241;43m=\u001b[39;49m\u001b[38;5;28;43mself\u001b[39;49m\u001b[38;5;241;43m.\u001b[39;49m\u001b[43moptions\u001b[49m\u001b[38;5;241;43m.\u001b[39;49m\u001b[43mget\u001b[49m\u001b[43m(\u001b[49m\u001b[38;5;124;43m\"\u001b[39;49m\u001b[38;5;124;43mcompression\u001b[39;49m\u001b[38;5;124;43m\"\u001b[39;49m\u001b[43m,\u001b[49m\u001b[43m \u001b[49m\u001b[38;5;28;43;01mNone\u001b[39;49;00m\u001b[43m)\u001b[49m\u001b[43m,\u001b[49m\n\u001b[1;32m   1666\u001b[0m \u001b[43m    \u001b[49m\u001b[43mmemory_map\u001b[49m\u001b[38;5;241;43m=\u001b[39;49m\u001b[38;5;28;43mself\u001b[39;49m\u001b[38;5;241;43m.\u001b[39;49m\u001b[43moptions\u001b[49m\u001b[38;5;241;43m.\u001b[39;49m\u001b[43mget\u001b[49m\u001b[43m(\u001b[49m\u001b[38;5;124;43m\"\u001b[39;49m\u001b[38;5;124;43mmemory_map\u001b[39;49m\u001b[38;5;124;43m\"\u001b[39;49m\u001b[43m,\u001b[49m\u001b[43m \u001b[49m\u001b[38;5;28;43;01mFalse\u001b[39;49;00m\u001b[43m)\u001b[49m\u001b[43m,\u001b[49m\n\u001b[1;32m   1667\u001b[0m \u001b[43m    \u001b[49m\u001b[43mis_text\u001b[49m\u001b[38;5;241;43m=\u001b[39;49m\u001b[43mis_text\u001b[49m\u001b[43m,\u001b[49m\n\u001b[1;32m   1668\u001b[0m \u001b[43m    \u001b[49m\u001b[43merrors\u001b[49m\u001b[38;5;241;43m=\u001b[39;49m\u001b[38;5;28;43mself\u001b[39;49m\u001b[38;5;241;43m.\u001b[39;49m\u001b[43moptions\u001b[49m\u001b[38;5;241;43m.\u001b[39;49m\u001b[43mget\u001b[49m\u001b[43m(\u001b[49m\u001b[38;5;124;43m\"\u001b[39;49m\u001b[38;5;124;43mencoding_errors\u001b[39;49m\u001b[38;5;124;43m\"\u001b[39;49m\u001b[43m,\u001b[49m\u001b[43m \u001b[49m\u001b[38;5;124;43m\"\u001b[39;49m\u001b[38;5;124;43mstrict\u001b[39;49m\u001b[38;5;124;43m\"\u001b[39;49m\u001b[43m)\u001b[49m\u001b[43m,\u001b[49m\n\u001b[1;32m   1669\u001b[0m \u001b[43m    \u001b[49m\u001b[43mstorage_options\u001b[49m\u001b[38;5;241;43m=\u001b[39;49m\u001b[38;5;28;43mself\u001b[39;49m\u001b[38;5;241;43m.\u001b[39;49m\u001b[43moptions\u001b[49m\u001b[38;5;241;43m.\u001b[39;49m\u001b[43mget\u001b[49m\u001b[43m(\u001b[49m\u001b[38;5;124;43m\"\u001b[39;49m\u001b[38;5;124;43mstorage_options\u001b[39;49m\u001b[38;5;124;43m\"\u001b[39;49m\u001b[43m,\u001b[49m\u001b[43m \u001b[49m\u001b[38;5;28;43;01mNone\u001b[39;49;00m\u001b[43m)\u001b[49m\u001b[43m,\u001b[49m\n\u001b[1;32m   1670\u001b[0m \u001b[43m\u001b[49m\u001b[43m)\u001b[49m\n\u001b[1;32m   1671\u001b[0m \u001b[38;5;28;01massert\u001b[39;00m \u001b[38;5;28mself\u001b[39m\u001b[38;5;241m.\u001b[39mhandles \u001b[38;5;129;01mis\u001b[39;00m \u001b[38;5;129;01mnot\u001b[39;00m \u001b[38;5;28;01mNone\u001b[39;00m\n\u001b[1;32m   1672\u001b[0m f \u001b[38;5;241m=\u001b[39m \u001b[38;5;28mself\u001b[39m\u001b[38;5;241m.\u001b[39mhandles\u001b[38;5;241m.\u001b[39mhandle\n",
      "File \u001b[0;32m/opt/conda/lib/python3.11/site-packages/pandas/io/common.py:859\u001b[0m, in \u001b[0;36mget_handle\u001b[0;34m(path_or_buf, mode, encoding, compression, memory_map, is_text, errors, storage_options)\u001b[0m\n\u001b[1;32m    854\u001b[0m \u001b[38;5;28;01melif\u001b[39;00m \u001b[38;5;28misinstance\u001b[39m(handle, \u001b[38;5;28mstr\u001b[39m):\n\u001b[1;32m    855\u001b[0m     \u001b[38;5;66;03m# Check whether the filename is to be opened in binary mode.\u001b[39;00m\n\u001b[1;32m    856\u001b[0m     \u001b[38;5;66;03m# Binary mode does not support 'encoding' and 'newline'.\u001b[39;00m\n\u001b[1;32m    857\u001b[0m     \u001b[38;5;28;01mif\u001b[39;00m ioargs\u001b[38;5;241m.\u001b[39mencoding \u001b[38;5;129;01mand\u001b[39;00m \u001b[38;5;124m\"\u001b[39m\u001b[38;5;124mb\u001b[39m\u001b[38;5;124m\"\u001b[39m \u001b[38;5;129;01mnot\u001b[39;00m \u001b[38;5;129;01min\u001b[39;00m ioargs\u001b[38;5;241m.\u001b[39mmode:\n\u001b[1;32m    858\u001b[0m         \u001b[38;5;66;03m# Encoding\u001b[39;00m\n\u001b[0;32m--> 859\u001b[0m         handle \u001b[38;5;241m=\u001b[39m \u001b[38;5;28;43mopen\u001b[39;49m\u001b[43m(\u001b[49m\n\u001b[1;32m    860\u001b[0m \u001b[43m            \u001b[49m\u001b[43mhandle\u001b[49m\u001b[43m,\u001b[49m\n\u001b[1;32m    861\u001b[0m \u001b[43m            \u001b[49m\u001b[43mioargs\u001b[49m\u001b[38;5;241;43m.\u001b[39;49m\u001b[43mmode\u001b[49m\u001b[43m,\u001b[49m\n\u001b[1;32m    862\u001b[0m \u001b[43m            \u001b[49m\u001b[43mencoding\u001b[49m\u001b[38;5;241;43m=\u001b[39;49m\u001b[43mioargs\u001b[49m\u001b[38;5;241;43m.\u001b[39;49m\u001b[43mencoding\u001b[49m\u001b[43m,\u001b[49m\n\u001b[1;32m    863\u001b[0m \u001b[43m            \u001b[49m\u001b[43merrors\u001b[49m\u001b[38;5;241;43m=\u001b[39;49m\u001b[43merrors\u001b[49m\u001b[43m,\u001b[49m\n\u001b[1;32m    864\u001b[0m \u001b[43m            \u001b[49m\u001b[43mnewline\u001b[49m\u001b[38;5;241;43m=\u001b[39;49m\u001b[38;5;124;43m\"\u001b[39;49m\u001b[38;5;124;43m\"\u001b[39;49m\u001b[43m,\u001b[49m\n\u001b[1;32m    865\u001b[0m \u001b[43m        \u001b[49m\u001b[43m)\u001b[49m\n\u001b[1;32m    866\u001b[0m     \u001b[38;5;28;01melse\u001b[39;00m:\n\u001b[1;32m    867\u001b[0m         \u001b[38;5;66;03m# Binary mode\u001b[39;00m\n\u001b[1;32m    868\u001b[0m         handle \u001b[38;5;241m=\u001b[39m \u001b[38;5;28mopen\u001b[39m(handle, ioargs\u001b[38;5;241m.\u001b[39mmode)\n",
      "\u001b[0;31mFileNotFoundError\u001b[0m: [Errno 2] No such file or directory: 'final_los_angeles_crime_data.csv'"
     ]
    }
   ],
   "source": [
    "data = pd.read_csv('final_los_angeles_crime_data.csv')\n",
    "data.head()"
   ]
  },
  {
   "cell_type": "code",
   "execution_count": null,
   "id": "667e9dcd-ed7a-45a0-8b65-a4026ce48267",
   "metadata": {
    "scrolled": true
   },
   "outputs": [],
   "source": [
    "time_series_data = data[['Date Occured']][:]\n",
    "time_series_data = time_series_data.groupby(['Date Occured']).size().reset_index(name='Crime Count')\n",
    "# Convert the string to a datetime object\n",
    "time_series_data['Date Occured'] = pd.to_datetime(time_series_data['Date Occured'])\n",
    "time_series_data.head()"
   ]
  },
  {
   "cell_type": "code",
   "execution_count": null,
   "id": "0a0e0688-ad1c-4727-91aa-b843a9e9540e",
   "metadata": {
    "scrolled": true
   },
   "outputs": [],
   "source": [
    "# Function to get month from a date\n",
    "def Function_get_month(inpDate):\n",
    "    return(inpDate.month)\n",
    "\n",
    "# Function to get Year from a date\n",
    "def Function_get_year(inpDate):\n",
    "    return(inpDate.year)\n",
    "\n",
    "# Creating new columns\n",
    "time_series_data['Month']=time_series_data['Date Occured'].apply(Function_get_month)\n",
    "time_series_data['Year']=time_series_data['Date Occured'].apply(Function_get_year)\n",
    "\n",
    "time_series_data.head()\n",
    "time_series_data.set_index('Date Occured', inplace=True)\n",
    "time_series_data.head()"
   ]
  },
  {
   "cell_type": "code",
   "execution_count": null,
   "id": "c548bb82-56ae-45e2-b0ae-242ed5e317ba",
   "metadata": {},
   "outputs": [],
   "source": [
    "# Aggregating the sales quantity for each month for all categories\n",
    "pd.crosstab(columns=time_series_data['Month'],\n",
    "            index=time_series_data['Year'],\n",
    "            values=time_series_data['Crime Count'],\n",
    "            aggfunc='sum')"
   ]
  },
  {
   "cell_type": "code",
   "execution_count": null,
   "id": "1c879e21-2ef4-4e26-884d-b20490fd5760",
   "metadata": {},
   "outputs": [],
   "source": [
    "CrimeCount=pd.crosstab(columns=time_series_data['Year'],\n",
    "            index=time_series_data['Month'],\n",
    "            values=time_series_data['Crime Count'],\n",
    "            aggfunc='sum').melt()['value']\n",
    "\n",
    "MonthNames=['Jan','Feb','Mar','Apr','May', 'Jun', 'Jul', 'Aug', 'Sep','Oct','Nov','Dec']*4\n",
    "\n",
    "# Plotting the sales\n",
    "%matplotlib inline\n",
    "CrimeCount.plot(kind='line', figsize=(16,5), title='Total Crime Count per Month')\n",
    "# Setting the x-axis labels\n",
    "plotLabels=plt.xticks(np.arange(0,48,1),MonthNames, rotation=30)"
   ]
  },
  {
   "cell_type": "code",
   "execution_count": null,
   "id": "4d88e90f-ebec-429b-b34b-d23b77db917b",
   "metadata": {},
   "outputs": [],
   "source": [
    "series = CrimeCount.values\n",
    "result = seasonal_decompose(series, model='additive', period=12)\n",
    "result.plot()\n",
    "CurrentFig=plt.gcf()\n",
    "CurrentFig.set_size_inches(11,8)\n",
    "plt.show()"
   ]
  },
  {
   "cell_type": "code",
   "execution_count": null,
   "id": "5c29062f-5fa8-4e8c-9da5-1d6b47ce7167",
   "metadata": {},
   "outputs": [],
   "source": [
    "CrimeCount = CrimeCount[:len(CrimeCount)-1]"
   ]
  },
  {
   "cell_type": "code",
   "execution_count": null,
   "id": "041bdd67-4f20-41e5-8ff0-7b3369ffa3c4",
   "metadata": {},
   "outputs": [],
   "source": [
    "CrimeCount = (CrimeCount/3800000)*100000"
   ]
  },
  {
   "cell_type": "code",
   "execution_count": null,
   "id": "6810f53d-42be-4661-be70-a477fa7af887",
   "metadata": {},
   "outputs": [],
   "source": [
    "# Train the model on the full dataset \n",
    "SarimaxModel = model = SARIMAX(CrimeCount,  \n",
    "                        order = (5, 1, 10),  \n",
    "                        seasonal_order = (6, 0, 0, 12))\n",
    "CrimeModel = SarimaxModel.fit()\n",
    "  \n",
    "# Forecast for the next 6 months\n",
    "forecast = CrimeModel.predict(start = 0,\n",
    "                          end = (len(CrimeCount)+7)-1,\n",
    "                          typ = 'levels').rename('Forecast')\n",
    "print(\"Next Six Month Forecast:\",forecast[-7:])\n",
    "\n",
    "# Plot the forecast values\n",
    "CrimeCount.plot(figsize = (10, 15), legend = True, title='Time Series Crime Count Forecasts')\n",
    "forecast.plot(legend = True, figsize=(18,5))\n",
    "\n",
    "# Measuring the accuracy of the model\n",
    "MAPE=np.mean(abs(CrimeCount-forecast)/CrimeCount)*100\n",
    "print('#### Accuracy of model:', round(100-MAPE,2), '####')\n",
    "\n",
    "# Printing month names in X-Axis\n",
    "# Printing month names in X-Axis\n",
    "MonthNames2=MonthNames+MonthNames[0:6]\n",
    "plotLabels=plt.xticks(np.arange(0,54,1),MonthNames2, rotation=45)"
   ]
  },
  {
   "cell_type": "code",
   "execution_count": null,
   "id": "46fd1938-5827-422e-956f-ab3e241befa4",
   "metadata": {},
   "outputs": [],
   "source": []
  },
  {
   "cell_type": "code",
   "execution_count": null,
   "id": "88cc9352-9a66-49eb-ab63-a033c3ac0582",
   "metadata": {},
   "outputs": [],
   "source": []
  },
  {
   "cell_type": "code",
   "execution_count": null,
   "id": "5bb3d2bc-672d-4789-b7c8-afaf5006652a",
   "metadata": {},
   "outputs": [],
   "source": [
    "# Convert Pandas DataFrame to PySpark DataFrame\n",
    "gbq_data_pyspark = spark.createDataFrame(data)\n",
    "\n",
    "# Rename columns in PySpark DataFrame\n",
    "for column in gbq_data_pyspark.columns:\n",
    "    new_column = column.replace(\" \", \"_\").replace(\"-\", \"_\")\n",
    "    gbq_data_pyspark = gbq_data_pyspark.withColumnRenamed(column, new_column)\n",
    "\n",
    "# Show the columns in the PySpark DataFrame\n",
    "print(gbq_data_pyspark.columns)"
   ]
  },
  {
   "cell_type": "code",
   "execution_count": null,
   "id": "7a70eb9e-61f3-4355-91dd-5e4e3280b6a1",
   "metadata": {
    "scrolled": true
   },
   "outputs": [],
   "source": [
    "# Define your BigQuery destination table\n",
    "destination_table = \"los_angeles.la_crime_data\"\n",
    "\n",
    "# Write the PySpark DataFrame to BigQuery\n",
    "gbq_data_pyspark.write \\\n",
    "    .format(\"bigquery\") \\\n",
    "    .option(\"table\", destination_table) \\\n",
    "    .option(\"project\", \"lacrimedataanalysis\") \\\n",
    "    .mode(\"overwrite\") \\\n",
    "    .save()"
   ]
  },
  {
   "cell_type": "code",
   "execution_count": null,
   "id": "284800fa-59a5-4dd0-9ead-a9c717e39cc9",
   "metadata": {},
   "outputs": [],
   "source": []
  },
  {
   "cell_type": "code",
   "execution_count": null,
   "id": "3a6d1d10-775e-4b8e-b961-959f30b2f0f0",
   "metadata": {},
   "outputs": [],
   "source": []
  },
  {
   "cell_type": "code",
   "execution_count": 44,
   "id": "a707f5e1-96fc-4fbf-b32f-4da2619ddf62",
   "metadata": {},
   "outputs": [
    {
     "ename": "AttributeError",
     "evalue": "module 'pandas' has no attribute 'read'",
     "output_type": "error",
     "traceback": [
      "\u001b[1;31m---------------------------------------------------------------------------\u001b[0m",
      "\u001b[1;31mAttributeError\u001b[0m                            Traceback (most recent call last)",
      "Cell \u001b[1;32mIn[44], line 1\u001b[0m\n\u001b[1;32m----> 1\u001b[0m df_temp \u001b[38;5;241m=\u001b[39m \u001b[43mpd\u001b[49m\u001b[38;5;241;43m.\u001b[39;49m\u001b[43mread\u001b[49m\u001b[38;5;241m.\u001b[39mcsv(\u001b[38;5;124m\"\u001b[39m\u001b[38;5;124mla_crime_data.csv\u001b[39m\u001b[38;5;124m\"\u001b[39m, header\u001b[38;5;241m=\u001b[39m\u001b[38;5;28;01mTrue\u001b[39;00m, inferSchema\u001b[38;5;241m=\u001b[39m\u001b[38;5;28;01mTrue\u001b[39;00m)\n\u001b[0;32m      2\u001b[0m df_temp\u001b[38;5;241m.\u001b[39mhead(\u001b[38;5;241m10000\u001b[39m)\u001b[38;5;241m.\u001b[39mto_csv(\u001b[38;5;124m\"\u001b[39m\u001b[38;5;124mla_crime_data_10000.csv\u001b[39m\u001b[38;5;124m\"\u001b[39m)\n",
      "\u001b[1;31mAttributeError\u001b[0m: module 'pandas' has no attribute 'read'"
     ]
    }
   ],
   "source": [
    "df_temp = pd.read.csv(\"la_crime_data.csv\", header=True, inferSchema=True)\n",
    "df_temp.head(10000).to_csv(\"la_crime_data_10000.csv\")"
   ]
  },
  {
   "cell_type": "code",
   "execution_count": null,
   "id": "9a57e04e-2a5e-48be-bf27-4ce1f3ffef8a",
   "metadata": {},
   "outputs": [],
   "source": []
  }
 ],
 "metadata": {
  "kernelspec": {
   "display_name": "Python 3 (ipykernel)",
   "language": "python",
   "name": "python3"
  },
  "language_info": {
   "codemirror_mode": {
    "name": "ipython",
    "version": 3
   },
   "file_extension": ".py",
   "mimetype": "text/x-python",
   "name": "python",
   "nbconvert_exporter": "python",
   "pygments_lexer": "ipython3",
   "version": "3.11.6"
  }
 },
 "nbformat": 4,
 "nbformat_minor": 5
}
